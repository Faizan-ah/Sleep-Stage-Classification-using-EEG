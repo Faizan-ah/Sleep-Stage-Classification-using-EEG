{
 "cells": [
  {
   "cell_type": "markdown",
   "id": "4ae1259f",
   "metadata": {},
   "source": [
    "##### Libraries used"
   ]
  },
  {
   "cell_type": "code",
   "execution_count": null,
   "id": "a68a291d",
   "metadata": {},
   "outputs": [],
   "source": [
    "# General libraries \n",
    "import numpy as np\n",
    "import pandas as pd\n",
    "\n",
    "# For filtering\n",
    "from scipy.signal import butter, filtfilt, welch\n",
    "\n",
    "# For data loading\n",
    "import os\n",
    "\n",
    "# For feature extraction\n",
    "from scipy.stats import skew, kurtosis, zscore\n",
    "from scipy.fft import fft\n",
    "from scipy.integrate import simps\n",
    "\n",
    "# For standardization\n",
    "from sklearn.preprocessing import StandardScaler\n",
    "\n",
    "# For modelling\n",
    "from sklearn.model_selection import train_test_split, cross_val_score, KFold\n",
    "from sklearn.neighbors import KNeighborsClassifier\n",
    "from sklearn.ensemble import RandomForestClassifier\n",
    "from sklearn.svm import SVC\n",
    "from sklearn import metrics\n",
    "from sklearn.metrics import accuracy_score, classification_report, confusion_matrix, precision_score, recall_score, f1_score\n",
    "import seaborn as sns\n",
    "import matplotlib.pyplot as plt"
   ]
  },
  {
   "cell_type": "code",
   "execution_count": 69,
   "id": "2981067c",
   "metadata": {},
   "outputs": [],
   "source": [
    "# data_path =  \"Data/\"\n",
    "data_path =  \"../Data\""
   ]
  },
  {
   "cell_type": "markdown",
   "id": "160c1f2e",
   "metadata": {},
   "source": [
    "##### Filtering EEG data"
   ]
  },
  {
   "cell_type": "code",
   "execution_count": 70,
   "id": "0c5257c9",
   "metadata": {},
   "outputs": [],
   "source": [
    "# function for bandpass filter for the preprocessing the while loading\n",
    "def bandpass_filter(data, lowcut, highcut, fs, order=4):\n",
    "    nyquist = 0.5 * fs\n",
    "    low = lowcut / nyquist\n",
    "    high = highcut / nyquist\n",
    "    b, a = butter(order, [low, high], btype='band')\n",
    "    filtered_data = filtfilt(b, a, data)\n",
    "    return filtered_data"
   ]
  },
  {
   "cell_type": "markdown",
   "id": "cb679589",
   "metadata": {},
   "source": [
    "##### Feature Extraction "
   ]
  },
  {
   "cell_type": "code",
   "execution_count": 71,
   "id": "63d52242",
   "metadata": {},
   "outputs": [],
   "source": [
    "# function to calculate the features (summary statistics, power of the EEG rhythms, and resonance frequency.)\n",
    "def calculate_features_for_channel(signal, fs, channel_name):\n",
    "    features = {}\n",
    "\n",
    "    # Basic summary statistics\n",
    "    features[f'mean_{channel_name}'] = np.mean(signal)\n",
    "    features[f'median_{channel_name}'] = np.median(signal)\n",
    "    features[f'std_{channel_name}'] = np.std(signal)\n",
    "    features[f'skewness_{channel_name}'] = skew(signal)\n",
    "    features[f'kurtosis_{channel_name}'] = kurtosis(signal)\n",
    "\n",
    "    # Power spectral density (PSD)\n",
    "    f, Pxx = welch(signal, fs=fs, nperseg=1024)\n",
    "    features[f'delta_power_{channel_name}'] = simps(Pxx[(f >= 0.5) & (f < 4)])\n",
    "    features[f'theta_power_{channel_name}'] = simps(Pxx[(f >= 4) & (f < 8)])\n",
    "    features[f'alpha_power_{channel_name}'] = simps(Pxx[(f >= 8) & (f < 13)])\n",
    "    features[f'beta_power_{channel_name}'] = simps(Pxx[(f >= 13) & (f < 30)])\n",
    "    features[f'gamma_power_{channel_name}'] = simps(Pxx[(f >= 30) & (f < 40)])\n",
    "\n",
    "    # Resonance Frequency/Dominant frequency\n",
    "    fft_result = fft(signal.values)\n",
    "    freqs = np.fft.fftfreq(len(fft_result), 1 / fs)\n",
    "    features[f'dominant_frequency_{channel_name}'] = freqs[np.argmax(np.abs(fft_result))]\n",
    "\n",
    "    return features"
   ]
  },
  {
   "cell_type": "code",
   "execution_count": 72,
   "id": "351718a8",
   "metadata": {},
   "outputs": [],
   "source": [
    "# function to extract the feature and make a dataframe using the features\n",
    "\n",
    "#The specific values of 0.5 Hz and 30 Hz are commonly used in EEG processing for sleep studies.\n",
    "lowcut = 0.5\n",
    "highcut = 30\n",
    "#In EEG signal processing, a common sampling rate is 100 Hz.\n",
    "fs = 100\n",
    "\n",
    "def extract_features_from_file(file_path):\n",
    "    df = pd.read_csv(file_path)\n",
    "\n",
    "    # Apply bandpass filter to EEG data\n",
    "    df['EEG Fpz-Cz'] = bandpass_filter(df['EEG Fpz-Cz'], lowcut, highcut, fs)\n",
    "    df['EEG Pz-Oz'] = bandpass_filter(df['EEG Pz-Oz'], lowcut, highcut, fs)\n",
    "\n",
    "    # Calculate features\n",
    "    features_fpz = calculate_features_for_channel(df['EEG Fpz-Cz'], fs, \"Fpz_Cz\")\n",
    "    features_pz = calculate_features_for_channel(df['EEG Pz-Oz'], fs, \"Pz_Oz\")\n",
    "    features_df = features_fpz.copy()  # Create a copy of dict1 to avoid modifying it directly\n",
    "    features_df.update(features_pz)\n",
    "\n",
    "    return features_df"
   ]
  },
  {
   "cell_type": "code",
   "execution_count": 73,
   "id": "f0f54532",
   "metadata": {},
   "outputs": [],
   "source": [
    "# Load and extract features from each file in the Train and Test folder\n",
    "train_test_paths = [os.path.join(data_path, folder) for folder in [\"Train\", \"Test\"]]\n",
    "train_features_list = []\n",
    "test_features_list = []\n",
    "for train_test_path in train_test_paths:\n",
    "    for label in os.listdir(train_test_path):\n",
    "        label_path = os.path.join(train_test_path, label)\n",
    "        for file_name in os.listdir(label_path):\n",
    "            file_path = os.path.join(label_path, file_name)\n",
    "            features = extract_features_from_file(file_path)\n",
    "            features['Stage'] = label  # Add label information\n",
    "            if(\"Train\" in train_test_path):\n",
    "              train_features_list.append(features)\n",
    "            else:\n",
    "              test_features_list.append(features)\n",
    "\n",
    "# Create separate DataFrames for training and test features\n",
    "train_features_df = pd.DataFrame(train_features_list)\n",
    "test_features_df = pd.DataFrame(test_features_list)"
   ]
  },
  {
   "cell_type": "code",
   "execution_count": 74,
   "id": "c51186ed",
   "metadata": {},
   "outputs": [
    {
     "name": "stdout",
     "output_type": "stream",
     "text": [
      "Training Data:\n",
      "<class 'pandas.core.frame.DataFrame'>\n",
      "RangeIndex: 5963 entries, 0 to 5962\n",
      "Data columns (total 23 columns):\n",
      " #   Column                     Non-Null Count  Dtype  \n",
      "---  ------                     --------------  -----  \n",
      " 0   mean_Fpz_Cz                5963 non-null   float64\n",
      " 1   median_Fpz_Cz              5963 non-null   float64\n",
      " 2   std_Fpz_Cz                 5963 non-null   float64\n",
      " 3   skewness_Fpz_Cz            5963 non-null   float64\n",
      " 4   kurtosis_Fpz_Cz            5963 non-null   float64\n",
      " 5   delta_power_Fpz_Cz         5963 non-null   float64\n",
      " 6   theta_power_Fpz_Cz         5963 non-null   float64\n",
      " 7   alpha_power_Fpz_Cz         5963 non-null   float64\n",
      " 8   beta_power_Fpz_Cz          5963 non-null   float64\n",
      " 9   gamma_power_Fpz_Cz         5963 non-null   float64\n",
      " 10  dominant_frequency_Fpz_Cz  5963 non-null   float64\n",
      " 11  mean_Pz_Oz                 5963 non-null   float64\n",
      " 12  median_Pz_Oz               5963 non-null   float64\n",
      " 13  std_Pz_Oz                  5963 non-null   float64\n",
      " 14  skewness_Pz_Oz             5963 non-null   float64\n",
      " 15  kurtosis_Pz_Oz             5963 non-null   float64\n",
      " 16  delta_power_Pz_Oz          5963 non-null   float64\n",
      " 17  theta_power_Pz_Oz          5963 non-null   float64\n",
      " 18  alpha_power_Pz_Oz          5963 non-null   float64\n",
      " 19  beta_power_Pz_Oz           5963 non-null   float64\n",
      " 20  gamma_power_Pz_Oz          5963 non-null   float64\n",
      " 21  dominant_frequency_Pz_Oz   5963 non-null   float64\n",
      " 22  Stage                      5963 non-null   object \n",
      "dtypes: float64(22), object(1)\n",
      "memory usage: 1.0+ MB\n",
      "None\n"
     ]
    }
   ],
   "source": [
    "# Display basic information about the loaded data\n",
    "print(\"Training Data:\")\n",
    "print(train_features_df.info())"
   ]
  },
  {
   "cell_type": "code",
   "execution_count": 75,
   "id": "fe90e853",
   "metadata": {},
   "outputs": [
    {
     "name": "stdout",
     "output_type": "stream",
     "text": [
      "\n",
      "Test Data:\n",
      "<class 'pandas.core.frame.DataFrame'>\n",
      "RangeIndex: 1906 entries, 0 to 1905\n",
      "Data columns (total 23 columns):\n",
      " #   Column                     Non-Null Count  Dtype  \n",
      "---  ------                     --------------  -----  \n",
      " 0   mean_Fpz_Cz                1906 non-null   float64\n",
      " 1   median_Fpz_Cz              1906 non-null   float64\n",
      " 2   std_Fpz_Cz                 1906 non-null   float64\n",
      " 3   skewness_Fpz_Cz            1906 non-null   float64\n",
      " 4   kurtosis_Fpz_Cz            1906 non-null   float64\n",
      " 5   delta_power_Fpz_Cz         1906 non-null   float64\n",
      " 6   theta_power_Fpz_Cz         1906 non-null   float64\n",
      " 7   alpha_power_Fpz_Cz         1906 non-null   float64\n",
      " 8   beta_power_Fpz_Cz          1906 non-null   float64\n",
      " 9   gamma_power_Fpz_Cz         1906 non-null   float64\n",
      " 10  dominant_frequency_Fpz_Cz  1906 non-null   float64\n",
      " 11  mean_Pz_Oz                 1906 non-null   float64\n",
      " 12  median_Pz_Oz               1906 non-null   float64\n",
      " 13  std_Pz_Oz                  1906 non-null   float64\n",
      " 14  skewness_Pz_Oz             1906 non-null   float64\n",
      " 15  kurtosis_Pz_Oz             1906 non-null   float64\n",
      " 16  delta_power_Pz_Oz          1906 non-null   float64\n",
      " 17  theta_power_Pz_Oz          1906 non-null   float64\n",
      " 18  alpha_power_Pz_Oz          1906 non-null   float64\n",
      " 19  beta_power_Pz_Oz           1906 non-null   float64\n",
      " 20  gamma_power_Pz_Oz          1906 non-null   float64\n",
      " 21  dominant_frequency_Pz_Oz   1906 non-null   float64\n",
      " 22  Stage                      1906 non-null   object \n",
      "dtypes: float64(22), object(1)\n",
      "memory usage: 342.6+ KB\n",
      "None\n"
     ]
    }
   ],
   "source": [
    "print(\"\\nTest Data:\")\n",
    "print(test_features_df.info())"
   ]
  },
  {
   "cell_type": "markdown",
   "id": "fea2b17a",
   "metadata": {},
   "source": [
    "##### Checking for Missing Values"
   ]
  },
  {
   "cell_type": "code",
   "execution_count": 76,
   "id": "dda75de5",
   "metadata": {},
   "outputs": [
    {
     "name": "stdout",
     "output_type": "stream",
     "text": [
      "Missing values in Training Data:\n",
      "mean_Fpz_Cz                  0\n",
      "median_Fpz_Cz                0\n",
      "std_Fpz_Cz                   0\n",
      "skewness_Fpz_Cz              0\n",
      "kurtosis_Fpz_Cz              0\n",
      "delta_power_Fpz_Cz           0\n",
      "theta_power_Fpz_Cz           0\n",
      "alpha_power_Fpz_Cz           0\n",
      "beta_power_Fpz_Cz            0\n",
      "gamma_power_Fpz_Cz           0\n",
      "dominant_frequency_Fpz_Cz    0\n",
      "mean_Pz_Oz                   0\n",
      "median_Pz_Oz                 0\n",
      "std_Pz_Oz                    0\n",
      "skewness_Pz_Oz               0\n",
      "kurtosis_Pz_Oz               0\n",
      "delta_power_Pz_Oz            0\n",
      "theta_power_Pz_Oz            0\n",
      "alpha_power_Pz_Oz            0\n",
      "beta_power_Pz_Oz             0\n",
      "gamma_power_Pz_Oz            0\n",
      "dominant_frequency_Pz_Oz     0\n",
      "Stage                        0\n",
      "dtype: int64\n"
     ]
    }
   ],
   "source": [
    "# Check for missing values in the loaded data\n",
    "print(\"Missing values in Training Data:\")\n",
    "print(train_features_df.isnull().sum())"
   ]
  },
  {
   "cell_type": "code",
   "execution_count": 77,
   "id": "100a5cc5",
   "metadata": {},
   "outputs": [
    {
     "name": "stdout",
     "output_type": "stream",
     "text": [
      "mean_Fpz_Cz                  0\n",
      "median_Fpz_Cz                0\n",
      "std_Fpz_Cz                   0\n",
      "skewness_Fpz_Cz              0\n",
      "kurtosis_Fpz_Cz              0\n",
      "delta_power_Fpz_Cz           0\n",
      "theta_power_Fpz_Cz           0\n",
      "alpha_power_Fpz_Cz           0\n",
      "beta_power_Fpz_Cz            0\n",
      "gamma_power_Fpz_Cz           0\n",
      "dominant_frequency_Fpz_Cz    0\n",
      "mean_Pz_Oz                   0\n",
      "median_Pz_Oz                 0\n",
      "std_Pz_Oz                    0\n",
      "skewness_Pz_Oz               0\n",
      "kurtosis_Pz_Oz               0\n",
      "delta_power_Pz_Oz            0\n",
      "theta_power_Pz_Oz            0\n",
      "alpha_power_Pz_Oz            0\n",
      "beta_power_Pz_Oz             0\n",
      "gamma_power_Pz_Oz            0\n",
      "dominant_frequency_Pz_Oz     0\n",
      "Stage                        0\n",
      "dtype: int64\n"
     ]
    }
   ],
   "source": [
    "print(train_features_df.isna().sum())"
   ]
  },
  {
   "cell_type": "code",
   "execution_count": 78,
   "id": "b0004307",
   "metadata": {},
   "outputs": [
    {
     "name": "stdout",
     "output_type": "stream",
     "text": [
      "\n",
      "Missing values in Test Data:\n",
      "mean_Fpz_Cz                  0\n",
      "median_Fpz_Cz                0\n",
      "std_Fpz_Cz                   0\n",
      "skewness_Fpz_Cz              0\n",
      "kurtosis_Fpz_Cz              0\n",
      "delta_power_Fpz_Cz           0\n",
      "theta_power_Fpz_Cz           0\n",
      "alpha_power_Fpz_Cz           0\n",
      "beta_power_Fpz_Cz            0\n",
      "gamma_power_Fpz_Cz           0\n",
      "dominant_frequency_Fpz_Cz    0\n",
      "mean_Pz_Oz                   0\n",
      "median_Pz_Oz                 0\n",
      "std_Pz_Oz                    0\n",
      "skewness_Pz_Oz               0\n",
      "kurtosis_Pz_Oz               0\n",
      "delta_power_Pz_Oz            0\n",
      "theta_power_Pz_Oz            0\n",
      "alpha_power_Pz_Oz            0\n",
      "beta_power_Pz_Oz             0\n",
      "gamma_power_Pz_Oz            0\n",
      "dominant_frequency_Pz_Oz     0\n",
      "Stage                        0\n",
      "dtype: int64\n"
     ]
    }
   ],
   "source": [
    "print(\"\\nMissing values in Test Data:\")\n",
    "\n",
    "print(test_features_df.isnull().sum())"
   ]
  },
  {
   "cell_type": "code",
   "execution_count": 79,
   "id": "398e9a37",
   "metadata": {
    "scrolled": true
   },
   "outputs": [
    {
     "name": "stdout",
     "output_type": "stream",
     "text": [
      "mean_Fpz_Cz                  0\n",
      "median_Fpz_Cz                0\n",
      "std_Fpz_Cz                   0\n",
      "skewness_Fpz_Cz              0\n",
      "kurtosis_Fpz_Cz              0\n",
      "delta_power_Fpz_Cz           0\n",
      "theta_power_Fpz_Cz           0\n",
      "alpha_power_Fpz_Cz           0\n",
      "beta_power_Fpz_Cz            0\n",
      "gamma_power_Fpz_Cz           0\n",
      "dominant_frequency_Fpz_Cz    0\n",
      "mean_Pz_Oz                   0\n",
      "median_Pz_Oz                 0\n",
      "std_Pz_Oz                    0\n",
      "skewness_Pz_Oz               0\n",
      "kurtosis_Pz_Oz               0\n",
      "delta_power_Pz_Oz            0\n",
      "theta_power_Pz_Oz            0\n",
      "alpha_power_Pz_Oz            0\n",
      "beta_power_Pz_Oz             0\n",
      "gamma_power_Pz_Oz            0\n",
      "dominant_frequency_Pz_Oz     0\n",
      "Stage                        0\n",
      "dtype: int64\n"
     ]
    }
   ],
   "source": [
    "print(test_features_df.isna().sum())"
   ]
  },
  {
   "cell_type": "markdown",
   "id": "06db08f6",
   "metadata": {},
   "source": [
    "So we can conclude there are no missing values.  "
   ]
  },
  {
   "cell_type": "markdown",
   "id": "8a546455",
   "metadata": {},
   "source": [
    "##### Splitting the dataset into features(X) and labels(y)"
   ]
  },
  {
   "cell_type": "code",
   "execution_count": 80,
   "id": "20e4af07",
   "metadata": {},
   "outputs": [],
   "source": [
    "train_X = train_features_df.iloc[:, :-1]\n",
    "train_y = train_features_df.iloc[:, -1]\n",
    "test_X = test_features_df.iloc[:, :-1]\n",
    "test_y = test_features_df.iloc[:, -1]"
   ]
  },
  {
   "cell_type": "markdown",
   "id": "f3345226",
   "metadata": {},
   "source": [
    "##### Standardization of the dataset"
   ]
  },
  {
   "cell_type": "code",
   "execution_count": 81,
   "id": "5e3cbf83",
   "metadata": {},
   "outputs": [],
   "source": [
    "# Standardize train_X\n",
    "scaler_X = StandardScaler()\n",
    "train_X_standardized = scaler_X.fit_transform(train_X)\n",
    "\n",
    "# Apply the same transformation to test data\n",
    "test_X_standardized = scaler_X.transform(test_X)\n",
    "\n",
    "# Convert back to dataframes\n",
    "train_X_standardized_df = pd.DataFrame(train_X_standardized, columns=train_X.columns)\n",
    "test_X_standardized_df = pd.DataFrame(test_X_standardized, columns=test_X.columns)\n"
   ]
  },
  {
   "cell_type": "markdown",
   "id": "8f8d0a7e",
   "metadata": {},
   "source": [
    "##### KNN Classification and Evaluation of the Model"
   ]
  },
  {
   "cell_type": "code",
   "execution_count": 82,
   "id": "b3ea7d17",
   "metadata": {},
   "outputs": [
    {
     "name": "stdout",
     "output_type": "stream",
     "text": [
      "Accuracy: 0.6925498426023085\n",
      "KNN Classification Report:\n",
      "              precision    recall  f1-score   support\n",
      "\n",
      "       Awake       0.93      0.91      0.92       450\n",
      "          N1       0.53      0.39      0.45       295\n",
      "          N2       0.66      0.76      0.71       450\n",
      "          N3       0.75      0.67      0.71       310\n",
      "          N4       0.16      0.30      0.21        33\n",
      "         REM       0.60      0.64      0.62       368\n",
      "\n",
      "    accuracy                           0.69      1906\n",
      "   macro avg       0.61      0.61      0.60      1906\n",
      "weighted avg       0.70      0.69      0.69      1906\n",
      "\n"
     ]
    }
   ],
   "source": [
    "# Convert Pandas DataFrames to NumPy arrays\n",
    "train_X_standardized = train_X_standardized_df.values\n",
    "train_y = train_y.values\n",
    "test_X_standardized = test_X_standardized_df.values\n",
    "\n",
    "# Instantiate kNN Classifier\n",
    "k = 5 \n",
    "knn = KNeighborsClassifier(n_neighbors=k)\n",
    "\n",
    "# Train the model\n",
    "knn.fit(train_X_standardized, train_y)\n",
    "\n",
    "# Predictions\n",
    "y_pred = knn.predict(test_X_standardized)\n",
    "\n",
    "# Evaluation\n",
    "knn_accuracy = metrics.accuracy_score(test_y, y_pred)\n",
    "print(\"Accuracy:\", knn_accuracy)\n",
    "\n",
    "print(\"KNN Classification Report:\")\n",
    "print(classification_report(test_y, y_pred))"
   ]
  },
  {
   "cell_type": "markdown",
   "id": "fe121acd",
   "metadata": {},
   "source": [
    "##### SVM Classification and Evaluation of the Model"
   ]
  },
  {
   "cell_type": "code",
   "execution_count": 83,
   "id": "0431438f",
   "metadata": {
    "scrolled": true
   },
   "outputs": [
    {
     "data": {
      "text/html": [
       "<style>#sk-container-id-5 {color: black;}#sk-container-id-5 pre{padding: 0;}#sk-container-id-5 div.sk-toggleable {background-color: white;}#sk-container-id-5 label.sk-toggleable__label {cursor: pointer;display: block;width: 100%;margin-bottom: 0;padding: 0.3em;box-sizing: border-box;text-align: center;}#sk-container-id-5 label.sk-toggleable__label-arrow:before {content: \"▸\";float: left;margin-right: 0.25em;color: #696969;}#sk-container-id-5 label.sk-toggleable__label-arrow:hover:before {color: black;}#sk-container-id-5 div.sk-estimator:hover label.sk-toggleable__label-arrow:before {color: black;}#sk-container-id-5 div.sk-toggleable__content {max-height: 0;max-width: 0;overflow: hidden;text-align: left;background-color: #f0f8ff;}#sk-container-id-5 div.sk-toggleable__content pre {margin: 0.2em;color: black;border-radius: 0.25em;background-color: #f0f8ff;}#sk-container-id-5 input.sk-toggleable__control:checked~div.sk-toggleable__content {max-height: 200px;max-width: 100%;overflow: auto;}#sk-container-id-5 input.sk-toggleable__control:checked~label.sk-toggleable__label-arrow:before {content: \"▾\";}#sk-container-id-5 div.sk-estimator input.sk-toggleable__control:checked~label.sk-toggleable__label {background-color: #d4ebff;}#sk-container-id-5 div.sk-label input.sk-toggleable__control:checked~label.sk-toggleable__label {background-color: #d4ebff;}#sk-container-id-5 input.sk-hidden--visually {border: 0;clip: rect(1px 1px 1px 1px);clip: rect(1px, 1px, 1px, 1px);height: 1px;margin: -1px;overflow: hidden;padding: 0;position: absolute;width: 1px;}#sk-container-id-5 div.sk-estimator {font-family: monospace;background-color: #f0f8ff;border: 1px dotted black;border-radius: 0.25em;box-sizing: border-box;margin-bottom: 0.5em;}#sk-container-id-5 div.sk-estimator:hover {background-color: #d4ebff;}#sk-container-id-5 div.sk-parallel-item::after {content: \"\";width: 100%;border-bottom: 1px solid gray;flex-grow: 1;}#sk-container-id-5 div.sk-label:hover label.sk-toggleable__label {background-color: #d4ebff;}#sk-container-id-5 div.sk-serial::before {content: \"\";position: absolute;border-left: 1px solid gray;box-sizing: border-box;top: 0;bottom: 0;left: 50%;z-index: 0;}#sk-container-id-5 div.sk-serial {display: flex;flex-direction: column;align-items: center;background-color: white;padding-right: 0.2em;padding-left: 0.2em;position: relative;}#sk-container-id-5 div.sk-item {position: relative;z-index: 1;}#sk-container-id-5 div.sk-parallel {display: flex;align-items: stretch;justify-content: center;background-color: white;position: relative;}#sk-container-id-5 div.sk-item::before, #sk-container-id-5 div.sk-parallel-item::before {content: \"\";position: absolute;border-left: 1px solid gray;box-sizing: border-box;top: 0;bottom: 0;left: 50%;z-index: -1;}#sk-container-id-5 div.sk-parallel-item {display: flex;flex-direction: column;z-index: 1;position: relative;background-color: white;}#sk-container-id-5 div.sk-parallel-item:first-child::after {align-self: flex-end;width: 50%;}#sk-container-id-5 div.sk-parallel-item:last-child::after {align-self: flex-start;width: 50%;}#sk-container-id-5 div.sk-parallel-item:only-child::after {width: 0;}#sk-container-id-5 div.sk-dashed-wrapped {border: 1px dashed gray;margin: 0 0.4em 0.5em 0.4em;box-sizing: border-box;padding-bottom: 0.4em;background-color: white;}#sk-container-id-5 div.sk-label label {font-family: monospace;font-weight: bold;display: inline-block;line-height: 1.2em;}#sk-container-id-5 div.sk-label-container {text-align: center;}#sk-container-id-5 div.sk-container {/* jupyter's `normalize.less` sets `[hidden] { display: none; }` but bootstrap.min.css set `[hidden] { display: none !important; }` so we also need the `!important` here to be able to override the default hidden behavior on the sphinx rendered scikit-learn.org. See: https://github.com/scikit-learn/scikit-learn/issues/21755 */display: inline-block !important;position: relative;}#sk-container-id-5 div.sk-text-repr-fallback {display: none;}</style><div id=\"sk-container-id-5\" class=\"sk-top-container\"><div class=\"sk-text-repr-fallback\"><pre>SVC()</pre><b>In a Jupyter environment, please rerun this cell to show the HTML representation or trust the notebook. <br />On GitHub, the HTML representation is unable to render, please try loading this page with nbviewer.org.</b></div><div class=\"sk-container\" hidden><div class=\"sk-item\"><div class=\"sk-estimator sk-toggleable\"><input class=\"sk-toggleable__control sk-hidden--visually\" id=\"sk-estimator-id-5\" type=\"checkbox\" checked><label for=\"sk-estimator-id-5\" class=\"sk-toggleable__label sk-toggleable__label-arrow\">SVC</label><div class=\"sk-toggleable__content\"><pre>SVC()</pre></div></div></div></div></div>"
      ],
      "text/plain": [
       "SVC()"
      ]
     },
     "execution_count": 83,
     "metadata": {},
     "output_type": "execute_result"
    }
   ],
   "source": [
    "# Applying SVM classifier \n",
    "\n",
    "# Initialize the classifiers\n",
    "svm_classifier = SVC()\n",
    "\n",
    "# Train the classifiers\n",
    "svm_classifier.fit(train_X_standardized_df, train_y)"
   ]
  },
  {
   "cell_type": "code",
   "execution_count": 84,
   "id": "bffbc555",
   "metadata": {},
   "outputs": [
    {
     "name": "stdout",
     "output_type": "stream",
     "text": [
      "SVM Classifier Accuracy: 0.7644281217208815\n",
      "\n",
      "SVM Classifier Report:\n",
      "               precision    recall  f1-score   support\n",
      "\n",
      "       Awake       0.93      0.99      0.96       450\n",
      "          N1       0.71      0.28      0.40       295\n",
      "          N2       0.78      0.83      0.81       450\n",
      "          N3       0.84      0.80      0.82       310\n",
      "          N4       0.44      0.21      0.29        33\n",
      "         REM       0.58      0.81      0.67       368\n",
      "\n",
      "    accuracy                           0.76      1906\n",
      "   macro avg       0.71      0.65      0.66      1906\n",
      "weighted avg       0.77      0.76      0.75      1906\n",
      "\n"
     ]
    }
   ],
   "source": [
    "# Make predictions on the test set\n",
    "svm_predictions = svm_classifier.predict(test_X_standardized_df)\n",
    "\n",
    "# Evaluate performance\n",
    "svm_accuracy = accuracy_score(test_y, svm_predictions)\n",
    "svm_report = classification_report(test_y, svm_predictions)\n",
    "\n",
    "print(\"SVM Classifier Accuracy:\", svm_accuracy)\n",
    "print(\"\\nSVM Classifier Report:\\n\", svm_report)"
   ]
  },
  {
   "cell_type": "markdown",
   "id": "b151d2b9",
   "metadata": {},
   "source": [
    "##### Random Forest Classification and Evaluation of the Model"
   ]
  },
  {
   "cell_type": "code",
   "execution_count": 85,
   "id": "c5f84879",
   "metadata": {},
   "outputs": [
    {
     "data": {
      "text/html": [
       "<style>#sk-container-id-6 {color: black;}#sk-container-id-6 pre{padding: 0;}#sk-container-id-6 div.sk-toggleable {background-color: white;}#sk-container-id-6 label.sk-toggleable__label {cursor: pointer;display: block;width: 100%;margin-bottom: 0;padding: 0.3em;box-sizing: border-box;text-align: center;}#sk-container-id-6 label.sk-toggleable__label-arrow:before {content: \"▸\";float: left;margin-right: 0.25em;color: #696969;}#sk-container-id-6 label.sk-toggleable__label-arrow:hover:before {color: black;}#sk-container-id-6 div.sk-estimator:hover label.sk-toggleable__label-arrow:before {color: black;}#sk-container-id-6 div.sk-toggleable__content {max-height: 0;max-width: 0;overflow: hidden;text-align: left;background-color: #f0f8ff;}#sk-container-id-6 div.sk-toggleable__content pre {margin: 0.2em;color: black;border-radius: 0.25em;background-color: #f0f8ff;}#sk-container-id-6 input.sk-toggleable__control:checked~div.sk-toggleable__content {max-height: 200px;max-width: 100%;overflow: auto;}#sk-container-id-6 input.sk-toggleable__control:checked~label.sk-toggleable__label-arrow:before {content: \"▾\";}#sk-container-id-6 div.sk-estimator input.sk-toggleable__control:checked~label.sk-toggleable__label {background-color: #d4ebff;}#sk-container-id-6 div.sk-label input.sk-toggleable__control:checked~label.sk-toggleable__label {background-color: #d4ebff;}#sk-container-id-6 input.sk-hidden--visually {border: 0;clip: rect(1px 1px 1px 1px);clip: rect(1px, 1px, 1px, 1px);height: 1px;margin: -1px;overflow: hidden;padding: 0;position: absolute;width: 1px;}#sk-container-id-6 div.sk-estimator {font-family: monospace;background-color: #f0f8ff;border: 1px dotted black;border-radius: 0.25em;box-sizing: border-box;margin-bottom: 0.5em;}#sk-container-id-6 div.sk-estimator:hover {background-color: #d4ebff;}#sk-container-id-6 div.sk-parallel-item::after {content: \"\";width: 100%;border-bottom: 1px solid gray;flex-grow: 1;}#sk-container-id-6 div.sk-label:hover label.sk-toggleable__label {background-color: #d4ebff;}#sk-container-id-6 div.sk-serial::before {content: \"\";position: absolute;border-left: 1px solid gray;box-sizing: border-box;top: 0;bottom: 0;left: 50%;z-index: 0;}#sk-container-id-6 div.sk-serial {display: flex;flex-direction: column;align-items: center;background-color: white;padding-right: 0.2em;padding-left: 0.2em;position: relative;}#sk-container-id-6 div.sk-item {position: relative;z-index: 1;}#sk-container-id-6 div.sk-parallel {display: flex;align-items: stretch;justify-content: center;background-color: white;position: relative;}#sk-container-id-6 div.sk-item::before, #sk-container-id-6 div.sk-parallel-item::before {content: \"\";position: absolute;border-left: 1px solid gray;box-sizing: border-box;top: 0;bottom: 0;left: 50%;z-index: -1;}#sk-container-id-6 div.sk-parallel-item {display: flex;flex-direction: column;z-index: 1;position: relative;background-color: white;}#sk-container-id-6 div.sk-parallel-item:first-child::after {align-self: flex-end;width: 50%;}#sk-container-id-6 div.sk-parallel-item:last-child::after {align-self: flex-start;width: 50%;}#sk-container-id-6 div.sk-parallel-item:only-child::after {width: 0;}#sk-container-id-6 div.sk-dashed-wrapped {border: 1px dashed gray;margin: 0 0.4em 0.5em 0.4em;box-sizing: border-box;padding-bottom: 0.4em;background-color: white;}#sk-container-id-6 div.sk-label label {font-family: monospace;font-weight: bold;display: inline-block;line-height: 1.2em;}#sk-container-id-6 div.sk-label-container {text-align: center;}#sk-container-id-6 div.sk-container {/* jupyter's `normalize.less` sets `[hidden] { display: none; }` but bootstrap.min.css set `[hidden] { display: none !important; }` so we also need the `!important` here to be able to override the default hidden behavior on the sphinx rendered scikit-learn.org. See: https://github.com/scikit-learn/scikit-learn/issues/21755 */display: inline-block !important;position: relative;}#sk-container-id-6 div.sk-text-repr-fallback {display: none;}</style><div id=\"sk-container-id-6\" class=\"sk-top-container\"><div class=\"sk-text-repr-fallback\"><pre>RandomForestClassifier()</pre><b>In a Jupyter environment, please rerun this cell to show the HTML representation or trust the notebook. <br />On GitHub, the HTML representation is unable to render, please try loading this page with nbviewer.org.</b></div><div class=\"sk-container\" hidden><div class=\"sk-item\"><div class=\"sk-estimator sk-toggleable\"><input class=\"sk-toggleable__control sk-hidden--visually\" id=\"sk-estimator-id-6\" type=\"checkbox\" checked><label for=\"sk-estimator-id-6\" class=\"sk-toggleable__label sk-toggleable__label-arrow\">RandomForestClassifier</label><div class=\"sk-toggleable__content\"><pre>RandomForestClassifier()</pre></div></div></div></div></div>"
      ],
      "text/plain": [
       "RandomForestClassifier()"
      ]
     },
     "execution_count": 85,
     "metadata": {},
     "output_type": "execute_result"
    }
   ],
   "source": [
    "# Applying Random Forest Classifier \n",
    "rf_classifier = RandomForestClassifier()\n",
    "rf_classifier.fit(train_X_standardized_df, train_y)"
   ]
  },
  {
   "cell_type": "code",
   "execution_count": 86,
   "id": "242a1c45",
   "metadata": {},
   "outputs": [
    {
     "name": "stdout",
     "output_type": "stream",
     "text": [
      "Random Forest Classifier Accuracy: 0.7948583420776495\n",
      "\n",
      "Random Forest Classifier Report:\n",
      "               precision    recall  f1-score   support\n",
      "\n",
      "       Awake       0.96      1.00      0.98       450\n",
      "          N1       0.67      0.52      0.59       295\n",
      "          N2       0.79      0.87      0.82       450\n",
      "          N3       0.86      0.73      0.79       310\n",
      "          N4       0.48      0.42      0.45        33\n",
      "         REM       0.68      0.76      0.72       368\n",
      "\n",
      "    accuracy                           0.79      1906\n",
      "   macro avg       0.74      0.72      0.72      1906\n",
      "weighted avg       0.79      0.79      0.79      1906\n",
      "\n"
     ]
    }
   ],
   "source": [
    "# Make predictions on the test set\n",
    "rf_predictions = rf_classifier.predict(test_X_standardized_df)\n",
    "\n",
    "# Evaluate performance\n",
    "rf_accuracy = accuracy_score(test_y, rf_predictions)\n",
    "rf_report = classification_report(test_y, rf_predictions)\n",
    "\n",
    "print(\"Random Forest Classifier Accuracy:\", rf_accuracy)\n",
    "print(\"\\nRandom Forest Classifier Report:\\n\", rf_report)\n"
   ]
  },
  {
   "cell_type": "markdown",
   "id": "ae0cdaa1",
   "metadata": {},
   "source": [
    "##### Comparison of classifiers"
   ]
  },
  {
   "cell_type": "code",
   "execution_count": 87,
   "id": "88035b72",
   "metadata": {},
   "outputs": [
    {
     "name": "stdout",
     "output_type": "stream",
     "text": [
      "SVM Classifier:\n",
      "Confusion Matrix:\n",
      " [[446   0   4   0   0   0]\n",
      " [ 14  82  25   1   0 173]\n",
      " [  6   4 375  20   0  45]\n",
      " [  1   0  51 249   9   0]\n",
      " [  0   0   0  26   7   0]\n",
      " [ 14  30  26   0   0 298]]\n",
      "Accuracy: 0.7644281217208815\n",
      "Precision: 0.768291426891874\n",
      "Recall: 0.7644281217208815\n",
      "F1 Score: 0.7469387552924907\n",
      "\n",
      "Random Forest Classifier:\n",
      "Confusion Matrix:\n",
      " [[450   0   0   0   0   0]\n",
      " [  6 154  22   0   0 113]\n",
      " [  6  12 391  19   0  22]\n",
      " [  1   0  69 225  15   0]\n",
      " [  0   0   0  19  14   0]\n",
      " [  7  64  16   0   0 281]]\n",
      "Accuracy: 0.7948583420776495\n",
      "Precision: 0.7929712166879523\n",
      "Recall: 0.7948583420776495\n",
      "F1 Score: 0.7904728390202423\n"
     ]
    }
   ],
   "source": [
    "# Calculate confusion matrix\n",
    "svm_conf_matrix = confusion_matrix(test_y, svm_predictions)\n",
    "rf_conf_matrix = confusion_matrix(test_y, rf_predictions)\n",
    "knn_conf_matrix = confusion_matrix(test_y, y_pred) \n",
    "\n",
    "# Calculate precision, recall, and F1-score\n",
    "svm_precision = precision_score(test_y, svm_predictions, average='weighted')\n",
    "rf_precision = precision_score(test_y, rf_predictions, average='weighted')\n",
    "knn_precision = precision_score(test_y, y_pred, average='weighted')\n",
    "\n",
    "svm_recall = recall_score(test_y, svm_predictions, average='weighted')\n",
    "rf_recall = recall_score(test_y, rf_predictions, average='weighted')\n",
    "knn_recall = recall_score(test_y, y_pred, average='weighted')\n",
    "\n",
    "svm_f1 = f1_score(test_y, svm_predictions, average='weighted')\n",
    "rf_f1 = f1_score(test_y, rf_predictions, average='weighted')\n",
    "knn_f1 = f1_score(test_y, y_pred, average='weighted') \n",
    "\n",
    "print(\"SVM Classifier:\")\n",
    "print(\"Confusion Matrix:\\n\", svm_conf_matrix)\n",
    "print(\"Accuracy:\", svm_accuracy)\n",
    "print(\"Precision:\", svm_precision)\n",
    "print(\"Recall:\", svm_recall)\n",
    "print(\"F1 Score:\", svm_f1)\n",
    "\n",
    "print(\"\\nRandom Forest Classifier:\")\n",
    "print(\"Confusion Matrix:\\n\", rf_conf_matrix)\n",
    "print(\"Accuracy:\", rf_accuracy)\n",
    "print(\"Precision:\", rf_precision)\n",
    "print(\"Recall:\", rf_recall)\n",
    "print(\"F1 Score:\", rf_f1)"
   ]
  },
  {
   "cell_type": "code",
   "execution_count": 90,
   "id": "393c84de",
   "metadata": {},
   "outputs": [
    {
     "name": "stdout",
     "output_type": "stream",
     "text": [
      "\n",
      " KNN Classifier:\n",
      "Confusion Matrix:\n",
      " [[410   2  17   8  13   0]\n",
      " [  6 116  51   0   1 121]\n",
      " [  5  27 341  40   1  36]\n",
      " [  2   0  63 209  36   0]\n",
      " [  0   0   2  21  10   0]\n",
      " [ 17  73  43   1   0 234]]\n",
      "Accuracy: 0.6925498426023085\n",
      "Precision: 0.6983035267188578\n",
      "Recall: 0.6925498426023085\n",
      "F1 Score: 0.6921939846095168\n"
     ]
    }
   ],
   "source": [
    "print(\"\\n KNN Classifier:\")\n",
    "print(\"Confusion Matrix:\\n\", knn_conf_matrix)\n",
    "print(\"Accuracy:\", knn_accuracy)\n",
    "print(\"Precision:\", knn_precision)\n",
    "print(\"Recall:\", knn_recall)\n",
    "print(\"F1 Score:\", knn_f1)"
   ]
  },
  {
   "cell_type": "code",
   "execution_count": 88,
   "id": "2267ce03",
   "metadata": {
    "scrolled": false
   },
   "outputs": [
    {
     "data": {
      "image/png": "[encoded data removed]",
      "text/plain": [
       "<Figure size 800x600 with 1 Axes>"
      ]
     },
     "metadata": {},
     "output_type": "display_data"
    },
    {
     "data": {
      "image/png": "[encoded data removed]",
      "text/plain": [
       "<Figure size 800x600 with 1 Axes>"
      ]
     },
     "metadata": {},
     "output_type": "display_data"
    }
   ],
   "source": [
    "# Define function to plot confusion matrix\n",
    "def plot_confusion_matrix(conf_matrix, title):\n",
    "    plt.figure(figsize=(8, 6))\n",
    "    sns.heatmap(conf_matrix, annot=True, fmt=\"d\", cmap=\"Blues\", cbar=False)\n",
    "    plt.title(title)\n",
    "    plt.xlabel(\"Predicted Labels\")\n",
    "    plt.ylabel(\"True Labels\")\n",
    "    plt.show()\n",
    "\n",
    "# Plot confusion matrices\n",
    "plot_confusion_matrix(svm_conf_matrix, title=\"SVM Confusion Matrix\")\n",
    "plot_confusion_matrix(rf_conf_matrix, title=\"Random Forest Confusion Matrix\")\n"
   ]
  },
  {
   "cell_type": "markdown",
   "id": "43aa94f5",
   "metadata": {},
   "source": [
    "### Discussion\n",
    "1. The accuracy of all 3 classifiers is similar, but the Random Forest and SVM classifiers perform significantly better than KNN in most cases. Random Forest performs the best.\n",
    "2. The Random Forest classifier outperforms the SVM classifier in terms of accuracy, recall, and F1-score values, suggesting that the SVM classifier has greater difficulty with certain classes.\n",
    "3. On this dataset, the Random Forest classifier performs better than the SVM classifier on every metric.\n",
    "\n",
    "To enhance these classifiers' performance, more research and adjustment could be necessary.\n",
    "\n"
   ]
  },
  {
   "cell_type": "code",
   "execution_count": 89,
   "id": "24618dba",
   "metadata": {
    "scrolled": true
   },
   "outputs": [
    {
     "name": "stdout",
     "output_type": "stream",
     "text": [
      "SVM Classifier Cross-Validation Scores: [0.77284158 0.78290025 0.80217938 0.78942953 0.79362416]\n",
      "Mean Accuracy: 0.7881949796632481\n",
      "\n",
      "Random Forest Classifier Cross-Validation Scores: [0.84241408 0.84409053 0.84325231 0.83389262 0.85402685]\n",
      "Mean Accuracy: 0.8435352756853456\n"
     ]
    }
   ],
   "source": [
    "# Applying K-fold cross validation to improve the performance\n",
    "\n",
    "# Define k-fold cross-validation\n",
    "kfold = KFold(n_splits=5, shuffle=True, random_state=42)\n",
    "\n",
    "# Perform k-fold cross-validation for SVM\n",
    "svm_cv_scores = cross_val_score(svm_classifier, train_X_standardized_df, train_y, cv=kfold, scoring='accuracy')\n",
    "\n",
    "# Perform k-fold cross-validation for Random Forest\n",
    "rf_cv_scores = cross_val_score(rf_classifier, train_X_standardized_df, train_y, cv=kfold, scoring='accuracy')\n",
    "\n",
    "# Print the cross-validation scores\n",
    "print(\"SVM Classifier Cross-Validation Scores:\", svm_cv_scores)\n",
    "print(\"Mean Accuracy:\", svm_cv_scores.mean())\n",
    "\n",
    "print(\"\\nRandom Forest Classifier Cross-Validation Scores:\", rf_cv_scores)\n",
    "print(\"Mean Accuracy:\", rf_cv_scores.mean())\n"
   ]
  },
  {
   "cell_type": "markdown",
   "id": "7913d618",
   "metadata": {},
   "source": [
    "### Conclusion\n",
    "The Random Forest classifier outperformed the SVM classifier in terms of accuracy prior to k-fold cross-validation. But after k-fold cross-validation, the Random Forest classifier significantly outperformed the SVM classifier in terms of mean accuracy.\n",
    "For every k-fold cross-validation fold, the Random Forest classifier outperformed the SVM classifier, yielding an improved average accuracy.\n",
    "The Random Forest classifier outperforms the SVM classifier for this dataset in terms of robustness and generalization to previously unknown data, according to the results of the k-fold cross-validation.\n",
    "After applying k-fold cross-validation, the mean accuracy of both classifiers increased, indicating that the initial assessment could have been somewhat skewed as a result of the data's random division into train and test sets. K-fold cross-validation averages over several data splits to provide a more reliable estimate of classifier performance.\n",
    "\n",
    "\n",
    "\n"
   ]
  }
 ],
 "metadata": {
  "kernelspec": {
   "display_name": "Python 3 (ipykernel)",
   "language": "python",
   "name": "python3"
  },
  "language_info": {
   "codemirror_mode": {
    "name": "ipython",
    "version": 3
   },
   "file_extension": ".py",
   "mimetype": "text/x-python",
   "name": "python",
   "nbconvert_exporter": "python",
   "pygments_lexer": "ipython3",
   "version": "3.11.5"
  }
 },
 "nbformat": 4,
 "nbformat_minor": 5
}
